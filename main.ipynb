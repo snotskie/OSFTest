{
 "cells": [
  {
   "cell_type": "code",
   "execution_count": 1,
   "id": "83957627-70f6-4747-958f-ad88d7ab5c00",
   "metadata": {},
   "outputs": [],
   "source": [
    "# Packages\n",
    "from pandas import read_csv, DataFrame\n",
    "from scipy.stats import pearsonr\n",
    "from sklearn.ensemble import RandomForestRegressor\n",
    "from sklearn.model_selection import train_test_split\n",
    "from numpy import array, mean\n",
    "from matplotlib.pyplot import savefig, xlim, ylim\n",
    "from os import makedirs"
   ]
  },
  {
   "cell_type": "code",
   "execution_count": 2,
   "id": "3fa69b4c-8a45-4a37-b912-8903f313bb9f",
   "metadata": {},
   "outputs": [
    {
     "name": "stdout",
     "output_type": "stream",
     "text": [
      "    HouseID    Price  Beds  Baths  Sqft\n",
      "0         1   550000   2.0    3.0  1245\n",
      "1         2   295000   2.0    2.0   987\n",
      "2         3  1400000   4.0    3.0  2806\n",
      "3         4   510000   2.0    2.0  1138\n",
      "4         5   680000   2.0    1.0  1040\n",
      "5         6   799950   3.0    3.0  1954\n",
      "6         7  1040000   3.0    2.0  2360\n",
      "7         8   865000   NaN    NaN  2560\n",
      "8         9   768000   3.0    3.0  1440\n",
      "9        10  1150000   5.0    2.0  2600\n",
      "10       11  2220000   4.0    4.0  3590\n",
      "11       12   700000   2.0    1.0  1580\n",
      "12       13   975000   3.0    3.0  1300\n",
      "13       14    25000   1.0    1.0   490\n",
      "14       15   669000   2.0    2.0   915\n",
      "15       16   690000   3.0    2.0  1112\n",
      "16       17   379000   2.0    1.0   930\n",
      "17       18   424000   1.0    1.0   633\n",
      "18       19   500000   2.0    2.0   853\n",
      "19       20   875000   3.0    4.0  1740\n"
     ]
    }
   ],
   "source": [
    "# Load data and setup output dir\n",
    "data = read_csv(\"data/example.csv\", sep=\"\\t\")\n",
    "print(data)\n",
    "\n",
    "makedirs(\"output\", exist_ok=True)"
   ]
  },
  {
   "cell_type": "code",
   "execution_count": 3,
   "id": "9dd69eda-68ac-45f9-bd88-f2d16c7af4ad",
   "metadata": {},
   "outputs": [],
   "source": [
    "# What columns do we care about and what dependent variable col are we trying to predict?\n",
    "cols = [\n",
    "    \"Price\",\n",
    "    \"Beds\",\n",
    "    \"Baths\",\n",
    "    \"Sqft\"\n",
    "]\n",
    "\n",
    "dep_col = \"Price\""
   ]
  },
  {
   "cell_type": "code",
   "execution_count": 4,
   "id": "2a6f22f2-dc8c-47b1-8591-dfde54fb1692",
   "metadata": {},
   "outputs": [],
   "source": [
    "# Drop empty data and split into labels and features\n",
    "good_data = data[cols].dropna()\n",
    "labels = array(good_data[dep_col])\n",
    "features = array(good_data.drop(dep_col, axis=1))"
   ]
  },
  {
   "cell_type": "code",
   "execution_count": 5,
   "id": "d61b1366-bcc7-4807-bc31-49341a2597cc",
   "metadata": {},
   "outputs": [
    {
     "name": "stdout",
     "output_type": "stream",
     "text": [
      "Training Features Shape: (14, 3)\n",
      "Training Labels Shape: (14,)\n",
      "Testing Features Shape: (5, 3)\n",
      "Testing Labels Shape: (5,)\n"
     ]
    }
   ],
   "source": [
    "# Split into train and test\n",
    "train_features, test_features, train_labels, test_labels = train_test_split(features, labels, test_size=0.25, random_state=42)\n",
    "print(\"Training Features Shape:\", train_features.shape)\n",
    "print(\"Training Labels Shape:\", train_labels.shape)\n",
    "print(\"Testing Features Shape:\", test_features.shape)\n",
    "print(\"Testing Labels Shape:\", test_labels.shape)"
   ]
  },
  {
   "cell_type": "code",
   "execution_count": 6,
   "id": "68ee411e-b02d-467f-861d-ec4d83243cdb",
   "metadata": {},
   "outputs": [
    {
     "data": {
      "text/plain": [
       "RandomForestRegressor(n_estimators=1000, random_state=42)"
      ]
     },
     "execution_count": 6,
     "metadata": {},
     "output_type": "execute_result"
    }
   ],
   "source": [
    "# Fit model\n",
    "rf = RandomForestRegressor(n_estimators=1000, random_state=42)\n",
    "rf.fit(train_features, train_labels)"
   ]
  },
  {
   "cell_type": "code",
   "execution_count": 7,
   "id": "0223160a-e6e1-4c27-92c2-70828506dd07",
   "metadata": {},
   "outputs": [
    {
     "name": "stdout",
     "output_type": "stream",
     "text": [
      "Mean Absolute Error: 182347.2 degrees.\n"
     ]
    }
   ],
   "source": [
    "# Check model error\n",
    "predictions = rf.predict(test_features)\n",
    "errors = abs(predictions - test_labels)\n",
    "print(\"Mean Absolute Error:\", round(mean(errors), 2), \"degrees.\")"
   ]
  },
  {
   "cell_type": "code",
   "execution_count": 8,
   "id": "acc330f9-d2ea-493d-91e8-1fb1ca0f784d",
   "metadata": {},
   "outputs": [
    {
     "data": {
      "image/png": "[encoded data removed]",
      "text/plain": [
       "<Figure size 432x288 with 1 Axes>"
      ]
     },
     "metadata": {
      "needs_background": "light"
     },
     "output_type": "display_data"
    }
   ],
   "source": [
    "# Plot actual vs. predicted\n",
    "good_data[\"Predicted\"] = rf.predict(features)\n",
    "good_data.plot(\n",
    "    kind=\"scatter\",\n",
    "    x=dep_col,\n",
    "    y=\"Predicted\"\n",
    ")\n",
    "\n",
    "savefig(\"output/predicted.png\")"
   ]
  },
  {
   "cell_type": "code",
   "execution_count": 9,
   "id": "dbb0c068-3a75-4393-8cc7-e74a28806bbe",
   "metadata": {},
   "outputs": [
    {
     "name": "stdout",
     "output_type": "stream",
     "text": [
      "Variable: Sqft                 Importance: 0.6\n",
      "Variable: Beds                 Importance: 0.31\n",
      "Variable: Baths                Importance: 0.09\n"
     ]
    }
   ],
   "source": [
    "# Display importance of each features\n",
    "importances = list(rf.feature_importances_)\n",
    "feature_importances = [\n",
    "    (feature, round(importance, 2))\n",
    "    for feature, importance\n",
    "    in zip(list(data[cols].drop(dep_col, axis=1).columns), importances)\n",
    "]\n",
    "\n",
    "feature_importances = sorted(feature_importances, reverse=True, key=lambda x: x[1])\n",
    "for feature, importance in feature_importances:\n",
    "    print(f\"Variable: {feature:20} Importance: {importance}\")"
   ]
  }
 ],
 "metadata": {
  "kernelspec": {
   "display_name": "Python 3 (ipykernel)",
   "language": "python",
   "name": "python3"
  },
  "language_info": {
   "codemirror_mode": {
    "name": "ipython",
    "version": 3
   },
   "file_extension": ".py",
   "mimetype": "text/x-python",
   "name": "python",
   "nbconvert_exporter": "python",
   "pygments_lexer": "ipython3",
   "version": "3.7.10"
  }
 },
 "nbformat": 4,
 "nbformat_minor": 5
}
